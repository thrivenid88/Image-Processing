{
 "cells": [
  {
   "cell_type": "code",
   "execution_count": 1,
   "id": "a0e509a1",
   "metadata": {},
   "outputs": [],
   "source": [
    "import cv2\n",
    "import numpy as np\n",
    "  \n",
    "  # Read the image\n",
    "img_noisy1 = cv2.imread('C:/Users/User/Image Processing 2023/Program Files/cake.jfif',0)\n",
    "  \n",
    "# Obtain the number of rows and columns \n",
    "# of the image\n",
    "m, n = img_noisy1.shape\n",
    "   \n",
    "# Traverse the image. For every 3X3 area, \n",
    "# find the median of the pixels and\n",
    "# replace the center pixel by the median\n",
    "img_new1 = np.zeros([m, n])\n",
    "  \n",
    "for i in range(1, m-1):\n",
    "    for j in range(1, n-1):\n",
    "        temp = [img_noisy1[i-1, j-1],\n",
    "               img_noisy1[i-1, j],\n",
    "               img_noisy1[i-1, j + 1],\n",
    "               img_noisy1[i, j-1],\n",
    "               img_noisy1[i, j],\n",
    "               img_noisy1[i, j + 1],\n",
    "               img_noisy1[i + 1, j-1],\n",
    "               img_noisy1[i + 1, j],\n",
    "               img_noisy1[i + 1, j + 1]]\n",
    "          \n",
    "        temp = sorted(temp)\n",
    "        img_new1[i, j]= temp[4]\n",
    "img_new1 = img_new1.astype(np.uint8)\n",
    "cv2.imwrite('new_median_filtered.png', img_new1)\n",
    "cv2.waitKey()\n",
    "cv2.destroyAllWindows()"
   ]
  },
  {
   "cell_type": "code",
   "execution_count": 2,
   "id": "c826d1e5",
   "metadata": {},
   "outputs": [],
   "source": [
    "#using pil displaying text on image\n",
    "from PIL import Image\n",
    "from PIL import ImageDraw\n",
    "from PIL import ImageFont\n",
    "img=Image.open('C:/Users/User/Image Processing 2023/Program Files/bg.png')\n",
    "imgd=ImageDraw.Draw(img)\n",
    "myfont=ImageFont.truetype('arial.ttf', 70)\n",
    "imgd.text((10,10),\"Delicious....!!\",font=myfont,fill=(250,100,0))\n",
    "img.show()\n",
    "img.save(\"burger.png\")"
   ]
  },
  {
   "cell_type": "code",
   "execution_count": 3,
   "id": "00fd0112",
   "metadata": {},
   "outputs": [],
   "source": [
    "from PIL import Image, ImageDraw, ImageFilter\n",
    "img=Image.open('tshirt.png')\n",
    "imgd=ImageDraw.Draw(img)\n",
    "img2 = Image.open('lo.png')\n",
    "blurimage=img2.filter(ImageFilter.GaussianBlur())\n",
    "img.paste(blurimage,(950,600))\n",
    "img.show()"
   ]
  },
  {
   "cell_type": "code",
   "execution_count": null,
   "id": "8924c662",
   "metadata": {},
   "outputs": [],
   "source": [
    "#using cv2 displaying text\n",
    "import cv2\n",
    "image = cv2.imread(\"C:/Users/User/Image Processing 2023/Program Files/bg.png\")\n",
    "text = \"Delicious.....!!!\"\n",
    "coordinates = (100,100)\n",
    "font = cv2.FONT_HERSHEY_SIMPLEX\n",
    "fontScale = 1\n",
    "color = (255,0,245)\n",
    "thickness = 2\n",
    "image = cv2.putText(image, text, coordinates, font, fontScale, color, thickness, cv2.LINE_AA)\n",
    "cv2.imshow(\"Text\", image)\n",
    "cv2.waitKey()\n",
    "cv2.destroyAllWindows()"
   ]
  },
  {
   "cell_type": "code",
   "execution_count": 26,
   "id": "855b2505",
   "metadata": {},
   "outputs": [],
   "source": [
    "import cv2\n",
    "path=\"C:/Users/User/Image Processing 2023/Program Files/tshirt.png\"\n",
    "image=cv2.imread(path)\n",
    "org=(900,500)\n",
    "font = cv2.FONT_HERSHEY_COMPLEX_SMALL\n",
    "fontScale = 3\n",
    "color = (0,0,0)\n",
    "thickness = 8\n",
    "image = cv2.putText(image, 'puma',org, font, fontScale, color, thickness, cv2.LINE_AA)\n",
    "cv2.imshow(\"Text\", image)\n",
    "cv2.waitKey()\n",
    "cv2.destroyAllWindows()"
   ]
  },
  {
   "cell_type": "code",
   "execution_count": null,
   "id": "978859a2",
   "metadata": {},
   "outputs": [],
   "source": []
  }
 ],
 "metadata": {
  "kernelspec": {
   "display_name": "Python 3 (ipykernel)",
   "language": "python",
   "name": "python3"
  },
  "language_info": {
   "codemirror_mode": {
    "name": "ipython",
    "version": 3
   },
   "file_extension": ".py",
   "mimetype": "text/x-python",
   "name": "python",
   "nbconvert_exporter": "python",
   "pygments_lexer": "ipython3",
   "version": "3.9.7"
  }
 },
 "nbformat": 4,
 "nbformat_minor": 5
}
