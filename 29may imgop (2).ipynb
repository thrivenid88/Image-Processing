{
 "cells": [
  {
   "cell_type": "code",
   "execution_count": null,
   "id": "86920872",
   "metadata": {},
   "outputs": [],
   "source": [
    "import numpy as np\n",
    "import cv2 as cv\n",
    "img = cv.imread('orange.png', 0)\n",
    "M = np.float32([[1, 0, 100], [0, 1, 50]])\n",
    "dst = cv.warpAffine(img, M, (cols, rows))\n",
    "cv.imshow('img', dst)\n",
    "cv.waitKey(0)\n",
    "cv.destroyAllWindows()"
   ]
  },
  {
   "cell_type": "code",
   "execution_count": null,
   "id": "08c0ffde",
   "metadata": {},
   "outputs": [],
   "source": [
    "import numpy as np\n",
    "import cv2 as cv\n",
    "img = cv.imread('orange.png', 0)\n",
    "M = np.float32([[1, 0, 0], \n",
    "                [0, -1, rows],\n",
    "                [0, 0, 1]])\n",
    "reflected_img = cv.warpPerspective(img, M,\n",
    "                                   (int(cols),\n",
    "                                    int(rows)))\n",
    "cv.imshow('img', reflected_img)\n",
    "cv.imwrite('reflection_out.jpg', reflected_img)\n",
    "cv.waitKey(0)\n",
    "cv.destroyAllWindows()"
   ]
  },
  {
   "cell_type": "code",
   "execution_count": null,
   "id": "03cba299",
   "metadata": {},
   "outputs": [],
   "source": [
    "import numpy as np\n",
    "import cv2 as cv\n",
    "img = cv.imread('kivi.jfif',0)\n",
    "M = np.float32([[1,  0, 0], [0, -1, rows], [0,  0, 1]])\n",
    "img_rotation = cv.warpAffine(img,cv.getRotationMatrix2D((cols/2, rows/2),30,(cols, rows))\n",
    "cv.imshow('img', img_rotation)\n",
    "cv.imwrite('rotation_out.jpg', img_rotation)\n",
    "cv.waitKey(0)\n",
    "cv.destroyAllWindows()"
   ]
  },
  {
   "cell_type": "code",
   "execution_count": null,
   "id": "04ca1a3f",
   "metadata": {},
   "outputs": [],
   "source": [
    "import numpy as np\n",
    "import cv2 as cv\n",
    "img = cv.imread('orange.png', 0)\n",
    "img_shrinked = cv.resize(img, (250, 200))\n",
    "cv.imshow('img', img_shrinked)\n",
    "img_enlarged = cv.resize(img_shrinked, None,fx=2.5, fy=2)\n",
    "cv.imshow('img', img_enlarged)\n",
    "cv.waitKey(0)\n",
    "cv.destroyAllWindows()"
   ]
  },
  {
   "cell_type": "code",
   "execution_count": null,
   "id": "5b75d30d",
   "metadata": {},
   "outputs": [],
   "source": [
    "import numpy as np\n",
    "import cv2\n",
    "import matplotlib.pyplot as plt\n",
    "\n",
    "# read the input image\n",
    "img = cv2.imread(\"stra.jfif\")\n",
    "# convert from BGR to RGB so we can plot using matplotlib\n",
    "img = cv2.cvtColor(img, cv2.COLOR_BGR2RGB)\n",
    "# disable x & y axis\n",
    "plt.axis('off')\n",
    "# show the image\n",
    "plt.imshow(img)\n",
    "plt.show()\n",
    "# get the image shape\n",
    "rows, cols, dim = img.shape\n",
    "#transformation matrix for Scaling\n",
    "M = np.float32([[1.5, 0  , 0],\n",
    "                [0,   1.8, 0],\n",
    "            \t[0,   0,   1]])\n",
    "# apply a perspective transformation to the image\n",
    "scaled_img = cv2.warpPerspective(img,M,(cols*2,rows*2))\n",
    "# disable x & y axis\n",
    "plt.axis('off')\n",
    "# show the resulting image\n",
    "plt.imshow(scaled_img)\n",
    "plt.show()\n",
    "# save the resulting image to disk\n",
    "plt.imsave(\"city_scaled.png\", scaled_img)"
   ]
  },
  {
   "cell_type": "code",
   "execution_count": null,
   "id": "6b7ef521",
   "metadata": {},
   "outputs": [],
   "source": [
    "import numpy as np\n",
    "import cv2\n",
    "import matplotlib.pyplot as plt\n",
    "\n",
    "# read the input image\n",
    "img = cv2.imread(\"kivi.jfif\")\n",
    "# convert from BGR tonge RGB so we can plot using matplotlib\n",
    "img = cv2.cvtColor(img, cv2.COLOR_BGR2RGB)\n",
    "# disable x & y axis\n",
    "plt.axis('off')\n",
    "# show the image\n",
    "plt.imshow(img)\n",
    "plt.show()\n",
    "# get the image shape\n",
    "rows, cols, dim = img.shape\n",
    "# transformation matrix for translation\n",
    "M = np.float32([[1, 0, 50],\n",
    "                [0, 1, 50],\n",
    "                [0, 0, 1]])\n",
    "# apply a perspective transformation to the image\n",
    "translated_img = cv2.warpPerspective(img, M, (cols, rows))\n",
    "# disable x & y axis\n",
    "plt.axis('off')\n",
    "# show the resulting image\n",
    "plt.imshow(translated_img)\n",
    "plt.show()\n",
    "# save the resulting image to disk\n",
    "plt.imsave(\"kivi_translated.png\", translated_img)"
   ]
  },
  {
   "cell_type": "code",
   "execution_count": null,
   "id": "9827aa86",
   "metadata": {},
   "outputs": [],
   "source": [
    "import numpy as np\n",
    "import cv2\n",
    "import matplotlib.pyplot as plt\n",
    "\n",
    "# read the input image\n",
    "img = cv2.imread(\"f1.jfif\")\n",
    "# convert from BGR to RGB so we can plot using matplotlib\n",
    "img = cv2.cvtColor(img, cv2.COLOR_BGR2RGB)\n",
    "# disable x & y axis\n",
    "plt.axis('off')\n",
    "# show the image\n",
    "plt.imshow(img)\n",
    "plt.show()\n",
    "# get the image shape\n",
    "rows, cols, dim = img.shape\n",
    "#transformation matrix for Scaling\n",
    "M = np.float32([[1.5, 0  , 0],\n",
    "            \t[0,   1.8, 0],\n",
    "            \t[0,   0,   1]])\n",
    "# apply a perspective transformation to the image\n",
    "scaled_img = cv2.warpPerspective(img,M,(cols*2,rows*2))\n",
    "# disable x & y axis\n",
    "plt.axis('off')\n",
    "# show the resulting image\n",
    "plt.imshow(scaled_img)\n",
    "plt.show()\n",
    "# save the resulting image to disk\n",
    "plt.imsave(\"f1_scaled.jpg\", scaled_img)"
   ]
  },
  {
   "cell_type": "code",
   "execution_count": null,
   "id": "5c9205bc",
   "metadata": {},
   "outputs": [],
   "source": [
    "import cv2\n",
    "from matplotlib import pyplot as plt\n",
    "img=cv2.imread('f1.jfif')\n",
    "cv2.imshow(\"image before upsamppling\",img)\n",
    "img=cv2.pyrUp(img)\n",
    "cv2.imshow(\"upsamppling\",img)\n",
    "plt.imshow(img)\n",
    "plt.show()"
   ]
  },
  {
   "cell_type": "code",
   "execution_count": null,
   "id": "39a1b119",
   "metadata": {},
   "outputs": [],
   "source": [
    "import cv2\n",
    "from matplotlib import pyplot as plt\n",
    "img=cv2.imread('f1.jfif')\n",
    "cv2.imshow(\"image before down samppling\",img)\n",
    "img=cv2.pyrDown(img)\n",
    "cv2.imshow(\"downsampling\",img)\n",
    "plt.imshow(img)\n",
    "cv2.waitKey(0)\n",
    "cv2.destroyAllWindows()"
   ]
  },
  {
   "cell_type": "code",
   "execution_count": null,
   "id": "06d74328",
   "metadata": {},
   "outputs": [],
   "source": [
    "import cv2\n",
    "img1=cv2.imread(\"i1.jpg\")\n",
    "img2=cv2.imread(\"i2.jpg\")\n",
    "add=img1+img2\n",
    "cv2.imshow(\"add\",add)\n",
    "cv2.waitKey(0)\n",
    "cv2.destroyAllWindows()"
   ]
  },
  {
   "cell_type": "code",
   "execution_count": null,
   "id": "e31774de",
   "metadata": {},
   "outputs": [],
   "source": [
    "# Python program for adding\n",
    "# images using OpenCV\n",
    "\n",
    "# import OpenCV file\n",
    "import cv2\n",
    "\n",
    "# Read Image1\n",
    "mountain = cv2.imread('s1.jfif', 1)\n",
    "\n",
    "# Read image2\n",
    "dog = cv2.imread('1.jfif', 1)\n",
    "\n",
    "# Add the images\n",
    "img = cv2.add(mountain,dog)\n",
    "\n",
    "# Show the image\n",
    "cv2.imshow('image', img)\n",
    "\n",
    "# Wait for a key\n",
    "cv2.waitKey(0)\n",
    "\n",
    "# Distroy all the window open\n",
    "cv2.distroyAllWindows()\n"
   ]
  },
  {
   "cell_type": "code",
   "execution_count": 5,
   "id": "3dd786f5",
   "metadata": {},
   "outputs": [],
   "source": [
    "import cv2\n",
    "img1=cv2.imread(\"i3.jpg\")\n",
    "img2=cv2.imread(\"i4.jpg\")\n",
    "sub=img1-img2\n",
    "cv2.imshow(\"sub\",sub)\n",
    "cv2.waitKey(0)\n",
    "cv2.destroyAllWindows()"
   ]
  },
  {
   "cell_type": "code",
   "execution_count": 4,
   "id": "29d521e2",
   "metadata": {},
   "outputs": [],
   "source": [
    "import cv2\n",
    "img1=cv2.imread(\"i3.jpg\")\n",
    "img2=cv2.imread(\"i4.jpg\")\n",
    "mul=img1*img2\n",
    "cv2.imshow(\"mul\",mul)\n",
    "cv2.waitKey(0)\n",
    "cv2.destroyAllWindows()"
   ]
  },
  {
   "cell_type": "code",
   "execution_count": 7,
   "id": "651e735e",
   "metadata": {},
   "outputs": [],
   "source": [
    "#bleding of image\n",
    "import cv2\n",
    "img1=cv2.imread('i3.jpg')\n",
    "img2=cv2.imread('i4.jpg')\n",
    "s1=cv2.addWeighted(img1,0.3,img2,0.7,0)\n",
    "cv2.imshow('image',s1)\n",
    "cv2.waitKey(0)\n",
    "cv2.destroyAllWindows()"
   ]
  },
  {
   "cell_type": "code",
   "execution_count": 10,
   "id": "319e6997",
   "metadata": {},
   "outputs": [
    {
     "data": {
      "image/png": "[encoded data removed]",
      "text/plain": [
       "<Figure size 432x288 with 1 Axes>"
      ]
     },
     "metadata": {
      "needs_background": "light"
     },
     "output_type": "display_data"
    },
    {
     "ename": "error",
     "evalue": "OpenCV(4.5.5) D:\\a\\opencv-python\\opencv-python\\opencv\\modules\\imgproc\\src\\histogram.cpp:3439: error: (-215:Assertion failed) _src.type() == CV_8UC1 in function 'cv::equalizeHist'\n",
     "output_type": "error",
     "traceback": [
      "\u001b[1;31m---------------------------------------------------------------------------\u001b[0m",
      "\u001b[1;31merror\u001b[0m                                     Traceback (most recent call last)",
      "\u001b[1;32m~\\AppData\\Local\\Temp/ipykernel_13616/3111547546.py\u001b[0m in \u001b[0;36m<module>\u001b[1;34m\u001b[0m\n\u001b[0;32m      5\u001b[0m \u001b[0mplt\u001b[0m\u001b[1;33m.\u001b[0m\u001b[0mhist\u001b[0m\u001b[1;33m(\u001b[0m\u001b[0mimg\u001b[0m\u001b[1;33m.\u001b[0m\u001b[0mravel\u001b[0m\u001b[1;33m(\u001b[0m\u001b[1;33m)\u001b[0m\u001b[1;33m,\u001b[0m\u001b[1;36m256\u001b[0m\u001b[1;33m,\u001b[0m\u001b[1;33m[\u001b[0m\u001b[1;36m0\u001b[0m\u001b[1;33m,\u001b[0m\u001b[1;36m256\u001b[0m\u001b[1;33m]\u001b[0m\u001b[1;33m)\u001b[0m\u001b[1;33m\u001b[0m\u001b[1;33m\u001b[0m\u001b[0m\n\u001b[0;32m      6\u001b[0m \u001b[0mplt\u001b[0m\u001b[1;33m.\u001b[0m\u001b[0mshow\u001b[0m\u001b[1;33m(\u001b[0m\u001b[1;33m)\u001b[0m\u001b[1;33m\u001b[0m\u001b[1;33m\u001b[0m\u001b[0m\n\u001b[1;32m----> 7\u001b[1;33m \u001b[0mequ\u001b[0m\u001b[1;33m=\u001b[0m\u001b[0mcv2\u001b[0m\u001b[1;33m.\u001b[0m\u001b[0mequalizeHist\u001b[0m\u001b[1;33m(\u001b[0m\u001b[0mimg\u001b[0m\u001b[1;33m)\u001b[0m\u001b[1;33m\u001b[0m\u001b[1;33m\u001b[0m\u001b[0m\n\u001b[0m\u001b[0;32m      8\u001b[0m \u001b[0mres\u001b[0m\u001b[1;33m=\u001b[0m\u001b[0mnp\u001b[0m\u001b[1;33m.\u001b[0m\u001b[0mhstack\u001b[0m\u001b[1;33m(\u001b[0m\u001b[0mimg\u001b[0m\u001b[1;33m,\u001b[0m\u001b[0mres\u001b[0m\u001b[1;33m)\u001b[0m\u001b[1;33m\u001b[0m\u001b[1;33m\u001b[0m\u001b[0m\n\u001b[0;32m      9\u001b[0m \u001b[0mcv2\u001b[0m\u001b[1;33m.\u001b[0m\u001b[0mimshow\u001b[0m\u001b[1;33m(\u001b[0m\u001b[1;34m'equalized image'\u001b[0m\u001b[1;33m,\u001b[0m\u001b[0mres\u001b[0m\u001b[1;33m)\u001b[0m\u001b[1;33m\u001b[0m\u001b[1;33m\u001b[0m\u001b[0m\n",
      "\u001b[1;31merror\u001b[0m: OpenCV(4.5.5) D:\\a\\opencv-python\\opencv-python\\opencv\\modules\\imgproc\\src\\histogram.cpp:3439: error: (-215:Assertion failed) _src.type() == CV_8UC1 in function 'cv::equalizeHist'\n"
     ]
    }
   ],
   "source": [
    "import cv2\n",
    "import numpy as np\n",
    "from matplotlib import pyplot as plt\n",
    "img=cv2.imread('s1.jfif')\n",
    "plt.hist(img.ravel(),256,[0,256])\n",
    "plt.show()\n",
    "equ=cv2.equalizeHist(img)\n",
    "res=np.hstack(img,res)\n",
    "cv2.imshow('equalized image',res)\n",
    "cv2.imwrite('equalised image.png',res)\n",
    "plt.hist(res.ravel(),256,[0,256])\n",
    "plt.show()"
   ]
  },
  {
   "cell_type": "code",
   "execution_count": null,
   "id": "d27074a8",
   "metadata": {},
   "outputs": [],
   "source": []
  },
  {
   "cell_type": "code",
   "execution_count": null,
   "id": "cac6571f",
   "metadata": {},
   "outputs": [],
   "source": []
  }
 ],
 "metadata": {
  "kernelspec": {
   "display_name": "Python 3 (ipykernel)",
   "language": "python",
   "name": "python3"
  },
  "language_info": {
   "codemirror_mode": {
    "name": "ipython",
    "version": 3
   },
   "file_extension": ".py",
   "mimetype": "text/x-python",
   "name": "python",
   "nbconvert_exporter": "python",
   "pygments_lexer": "ipython3",
   "version": "3.9.7"
  }
 },
 "nbformat": 4,
 "nbformat_minor": 5
}
