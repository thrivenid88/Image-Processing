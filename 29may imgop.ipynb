{
 "cells": [
  {
   "cell_type": "code",
   "execution_count": null,
   "id": "86920872",
   "metadata": {},
   "outputs": [],
   "source": [
    "import numpy as np\n",
    "import cv2 as cv\n",
    "img = cv.imread('orange.png', 0)\n",
    "M = np.float32([[1, 0, 100], [0, 1, 50]])\n",
    "dst = cv.warpAffine(img, M, (cols, rows))\n",
    "cv.imshow('img', dst)\n",
    "cv.waitKey(0)\n",
    "cv.destroyAllWindows()"
   ]
  },
  {
   "cell_type": "code",
   "execution_count": null,
   "id": "08c0ffde",
   "metadata": {},
   "outputs": [],
   "source": [
    "import numpy as np\n",
    "import cv2 as cv\n",
    "img = cv.imread('orange.png', 0)\n",
    "M = np.float32([[1, 0, 0], \n",
    "                [0, -1, rows],\n",
    "                [0, 0, 1]])\n",
    "reflected_img = cv.warpPerspective(img, M,\n",
    "                                   (int(cols),\n",
    "                                    int(rows)))\n",
    "cv.imshow('img', reflected_img)\n",
    "cv.imwrite('reflection_out.jpg', reflected_img)\n",
    "cv.waitKey(0)\n",
    "cv.destroyAllWindows()"
   ]
  },
  {
   "cell_type": "code",
   "execution_count": null,
   "id": "03cba299",
   "metadata": {},
   "outputs": [],
   "source": [
    "import numpy as np\n",
    "import cv2 as cv\n",
    "img = cv.imread('kivi.jfif',0)\n",
    "M = np.float32([[1,  0, 0], [0, -1, rows], [0,  0, 1]])\n",
    "img_rotation = cv.warpAffine(img,cv.getRotationMatrix2D((cols/2, rows/2),30,(cols, rows))\n",
    "cv.imshow('img', img_rotation)\n",
    "cv.imwrite('rotation_out.jpg', img_rotation)\n",
    "cv.waitKey(0)\n",
    "cv.destroyAllWindows()"
   ]
  },
  {
   "cell_type": "code",
   "execution_count": null,
   "id": "04ca1a3f",
   "metadata": {},
   "outputs": [],
   "source": [
    "import numpy as np\n",
    "import cv2 as cv\n",
    "img = cv.imread('orange.png', 0)\n",
    "img_shrinked = cv.resize(img, (250, 200))\n",
    "cv.imshow('img', img_shrinked)\n",
    "img_enlarged = cv.resize(img_shrinked, None,fx=2.5, fy=2)\n",
    "cv.imshow('img', img_enlarged)\n",
    "cv.waitKey(0)\n",
    "cv.destroyAllWindows()"
   ]
  },
  {
   "cell_type": "code",
   "execution_count": null,
   "id": "5b75d30d",
   "metadata": {},
   "outputs": [],
   "source": [
    "import numpy as np\n",
    "import cv2\n",
    "import matplotlib.pyplot as plt\n",
    "\n",
    "# read the input image\n",
    "img = cv2.imread(\"stra.jfif\")\n",
    "# convert from BGR to RGB so we can plot using matplotlib\n",
    "img = cv2.cvtColor(img, cv2.COLOR_BGR2RGB)\n",
    "# disable x & y axis\n",
    "plt.axis('off')\n",
    "# show the image\n",
    "plt.imshow(img)\n",
    "plt.show()\n",
    "# get the image shape\n",
    "rows, cols, dim = img.shape\n",
    "#transformation matrix for Scaling\n",
    "M = np.float32([[1.5, 0  , 0],\n",
    "                [0,   1.8, 0],\n",
    "            \t[0,   0,   1]])\n",
    "# apply a perspective transformation to the image\n",
    "scaled_img = cv2.warpPerspective(img,M,(cols*2,rows*2))\n",
    "# disable x & y axis\n",
    "plt.axis('off')\n",
    "# show the resulting image\n",
    "plt.imshow(scaled_img)\n",
    "plt.show()\n",
    "# save the resulting image to disk\n",
    "plt.imsave(\"city_scaled.png\", scaled_img)"
   ]
  },
  {
   "cell_type": "code",
   "execution_count": null,
   "id": "6b7ef521",
   "metadata": {},
   "outputs": [],
   "source": [
    "import numpy as np\n",
    "import cv2\n",
    "import matplotlib.pyplot as plt\n",
    "\n",
    "# read the input image\n",
    "img = cv2.imread(\"kivi.jfif\")\n",
    "# convert from BGR tonge RGB so we can plot using matplotlib\n",
    "img = cv2.cvtColor(img, cv2.COLOR_BGR2RGB)\n",
    "# disable x & y axis\n",
    "plt.axis('off')\n",
    "# show the image\n",
    "plt.imshow(img)\n",
    "plt.show()\n",
    "# get the image shape\n",
    "rows, cols, dim = img.shape\n",
    "# transformation matrix for translation\n",
    "M = np.float32([[1, 0, 50],\n",
    "                [0, 1, 50],\n",
    "                [0, 0, 1]])\n",
    "# apply a perspective transformation to the image\n",
    "translated_img = cv2.warpPerspective(img, M, (cols, rows))\n",
    "# disable x & y axis\n",
    "plt.axis('off')\n",
    "# show the resulting image\n",
    "plt.imshow(translated_img)\n",
    "plt.show()\n",
    "# save the resulting image to disk\n",
    "plt.imsave(\"kivi_translated.png\", translated_img)"
   ]
  },
  {
   "cell_type": "code",
   "execution_count": null,
   "id": "9827aa86",
   "metadata": {},
   "outputs": [],
   "source": [
    "import numpy as np\n",
    "import cv2\n",
    "import matplotlib.pyplot as plt\n",
    "\n",
    "# read the input image\n",
    "img = cv2.imread(\"f1.jfif\")\n",
    "# convert from BGR to RGB so we can plot using matplotlib\n",
    "img = cv2.cvtColor(img, cv2.COLOR_BGR2RGB)\n",
    "# disable x & y axis\n",
    "plt.axis('off')\n",
    "# show the image\n",
    "plt.imshow(img)\n",
    "plt.show()\n",
    "# get the image shape\n",
    "rows, cols, dim = img.shape\n",
    "#transformation matrix for Scaling\n",
    "M = np.float32([[1.5, 0  , 0],\n",
    "            \t[0,   1.8, 0],\n",
    "            \t[0,   0,   1]])\n",
    "# apply a perspective transformation to the image\n",
    "scaled_img = cv2.warpPerspective(img,M,(cols*2,rows*2))\n",
    "# disable x & y axis\n",
    "plt.axis('off')\n",
    "# show the resulting image\n",
    "plt.imshow(scaled_img)\n",
    "plt.show()\n",
    "# save the resulting image to disk\n",
    "plt.imsave(\"f1_scaled.jpg\", scaled_img)"
   ]
  },
  {
   "cell_type": "code",
   "execution_count": null,
   "id": "5c9205bc",
   "metadata": {},
   "outputs": [],
   "source": [
    "import cv2\n",
    "from matplotlib import pyplot as plt\n",
    "img=cv2.imread('f1.jfif')\n",
    "cv2.imshow(\"image before upsamppling\",img)\n",
    "img=cv2.pyrUp(img)\n",
    "cv2.imshow(\"upsamppling\",img)\n",
    "plt.imshow(img)\n",
    "plt.show()"
   ]
  },
  {
   "cell_type": "code",
   "execution_count": null,
   "id": "39a1b119",
   "metadata": {},
   "outputs": [],
   "source": [
    "import cv2\n",
    "from matplotlib import pyplot as plt\n",
    "img=cv2.imread('f1.jfif')\n",
    "cv2.imshow(\"image before down samppling\",img)\n",
    "img=cv2.pyrDown(img)\n",
    "cv2.imshow(\"downsampling\",img)\n",
    "plt.imshow(img)\n",
    "cv2.waitKey(0)\n",
    "cv2.destroyAllWindows()"
   ]
  },
  {
   "cell_type": "code",
   "execution_count": null,
   "id": "06d74328",
   "metadata": {},
   "outputs": [],
   "source": [
    "import cv2\n",
    "img1=cv2.imread(\"i1.jpg\")\n",
    "img2=cv2.imread(\"i2.jpg\")\n",
    "add=img1+img2\n",
    "cv2.imshow(\"add\",add)\n",
    "cv2.waitKey(0)\n",
    "cv2.destroyAllWindows()"
   ]
  },
  {
   "cell_type": "code",
   "execution_count": null,
   "id": "e31774de",
   "metadata": {},
   "outputs": [],
   "source": [
    "# Python program for adding\n",
    "# images using OpenCV\n",
    "\n",
    "# import OpenCV file\n",
    "import cv2\n",
    "\n",
    "# Read Image1\n",
    "mountain = cv2.imread('s1.jfif', 1)\n",
    "\n",
    "# Read image2\n",
    "dog = cv2.imread('1.jfif', 1)\n",
    "\n",
    "# Add the images\n",
    "img = cv2.add(mountain,dog)\n",
    "\n",
    "# Show the image\n",
    "cv2.imshow('image', img)\n",
    "\n",
    "# Wait for a key\n",
    "cv2.waitKey(0)\n",
    "\n",
    "# Distroy all the window open\n",
    "cv2.distroyAllWindows()\n"
   ]
  },
  {
   "cell_type": "code",
   "execution_count": 5,
   "id": "3dd786f5",
   "metadata": {},
   "outputs": [],
   "source": [
    "import cv2\n",
    "img1=cv2.imread(\"i3.jpg\")\n",
    "img2=cv2.imread(\"i4.jpg\")\n",
    "sub=img1-img2\n",
    "cv2.imshow(\"sub\",sub)\n",
    "cv2.waitKey(0)\n",
    "cv2.destroyAllWindows()"
   ]
  },
  {
   "cell_type": "code",
   "execution_count": 4,
   "id": "29d521e2",
   "metadata": {},
   "outputs": [],
   "source": [
    "import cv2\n",
    "img1=cv2.imread(\"i3.jpg\")\n",
    "img2=cv2.imread(\"i4.jpg\")\n",
    "mul=img1*img2\n",
    "cv2.imshow(\"mul\",mul)\n",
    "cv2.waitKey(0)\n",
    "cv2.destroyAllWindows()"
   ]
  },
  {
   "cell_type": "code",
   "execution_count": null,
   "id": "651e735e",
   "metadata": {},
   "outputs": [],
   "source": []
  }
 ],
 "metadata": {
  "kernelspec": {
   "display_name": "Python 3 (ipykernel)",
   "language": "python",
   "name": "python3"
  },
  "language_info": {
   "codemirror_mode": {
    "name": "ipython",
    "version": 3
   },
   "file_extension": ".py",
   "mimetype": "text/x-python",
   "name": "python",
   "nbconvert_exporter": "python",
   "pygments_lexer": "ipython3",
   "version": "3.9.7"
  }
 },
 "nbformat": 4,
 "nbformat_minor": 5
}
