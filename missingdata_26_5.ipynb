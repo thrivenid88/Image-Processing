{
  "nbformat": 4,
  "nbformat_minor": 0,
  "metadata": {
    "colab": {
      "provenance": [],
      "authorship_tag": "ABX9TyPtUF/TvdG4nMJ6A3Aud+zF",
      "include_colab_link": true
    },
    "kernelspec": {
      "name": "python3",
      "display_name": "Python 3"
    },
    "language_info": {
      "name": "python"
    }
  },
  "cells": [
    {
      "cell_type": "markdown",
      "metadata": {
        "id": "view-in-github",
        "colab_type": "text"
      },
      "source": [
        "<a href=\"https://colab.research.google.com/github/thrivenid88/Image-Processing/blob/main/missingdata_26_5.ipynb\" target=\"_parent\"><img src=\"https://colab.research.google.com/assets/colab-badge.svg\" alt=\"Open In Colab\"/></a>"
      ]
    },
    {
      "cell_type": "markdown",
      "source": [
        "**calculation with missing data**"
      ],
      "metadata": {
        "id": "gfdg1OUJZpVC"
      }
    },
    {
      "cell_type": "code",
      "execution_count": 1,
      "metadata": {
        "id": "q2j8NRre_Lw_",
        "colab": {
          "base_uri": "https://localhost:8080/"
        },
        "outputId": "3ee2c949-af70-4f63-c269-e08c2233a3ca"
      },
      "outputs": [
        {
          "output_type": "stream",
          "name": "stdout",
          "text": [
            "[ 3. nan  0.  4. nan]\n"
          ]
        }
      ],
      "source": [
        "import pandas as pd\n",
        "import numpy as np\n",
        "array=np.array([3,np.nan,0,4,np.nan])\n",
        "print(array)"
      ]
    },
    {
      "cell_type": "markdown",
      "source": [
        "**cleaning missing data**\n"
      ],
      "metadata": {
        "id": "iFRyBzoLZW23"
      }
    },
    {
      "cell_type": "code",
      "source": [
        "import numpy as np\n",
        "import pandas as pd\n",
        "data_string='''Id,Gender,Salary,Country,Company\n",
        "1,Male,1500,India,Google\n",
        "2,Female,45000,china,NaN\n",
        "3,Female,25000,India,Google\n",
        "4,NaN,NaN,NaN,infosys\n",
        "5,Male,32000,Japan,Google\n",
        "6,Female,42000,Africa,Microsoft\n",
        "7,Male,40000,syngapore,NaN\n",
        "8,NaN,NaN,Russia,NaN'''\n",
        "with open('salary.csv','w')as out:\n",
        "  out.write(data_string)"
      ],
      "metadata": {
        "id": "PJV4UXrfZPGR"
      },
      "execution_count": 55,
      "outputs": []
    },
    {
      "cell_type": "markdown",
      "source": [
        "**import the dataset**"
      ],
      "metadata": {
        "id": "pzhv9yrlev5Y"
      }
    },
    {
      "cell_type": "code",
      "source": [
        "df=pd.read_csv('/content/salary.csv')\n",
        "print('Salary Dataset:\\n',df)"
      ],
      "metadata": {
        "colab": {
          "base_uri": "https://localhost:8080/"
        },
        "id": "uRv9WO-IdZgp",
        "outputId": "2b01522c-77e7-44ce-c0c6-2eb256639aed"
      },
      "execution_count": 56,
      "outputs": [
        {
          "output_type": "stream",
          "name": "stdout",
          "text": [
            "Salary Dataset:\n",
            "    Id  Gender   Salary    Country    Company\n",
            "0   1    Male   1500.0      India     Google\n",
            "1   2  Female  45000.0      china        NaN\n",
            "2   3  Female  25000.0      India     Google\n",
            "3   4     NaN      NaN        NaN    infosys\n",
            "4   5    Male  32000.0      Japan     Google\n",
            "5   6  Female  42000.0     Africa  Microsoft\n",
            "6   7    Male  40000.0  syngapore        NaN\n",
            "7   8     NaN      NaN     Russia        NaN\n"
          ]
        }
      ]
    },
    {
      "cell_type": "markdown",
      "source": [
        "**check for missing data**"
      ],
      "metadata": {
        "id": "8AOgMG06e7uI"
      }
    },
    {
      "cell_type": "code",
      "source": [
        "print(\"Missing Data\\n\",df.isna())\n",
        "print('Missing Data\\n',df.isnull())"
      ],
      "metadata": {
        "colab": {
          "base_uri": "https://localhost:8080/"
        },
        "id": "s2vvinW7eRXB",
        "outputId": "d9d1fd2a-1488-409a-e06c-d6baf5a821a8"
      },
      "execution_count": 57,
      "outputs": [
        {
          "output_type": "stream",
          "name": "stdout",
          "text": [
            "Missing Data\n",
            "       Id  Gender  Salary  Country  Company\n",
            "0  False   False   False    False    False\n",
            "1  False   False   False    False     True\n",
            "2  False   False   False    False    False\n",
            "3  False    True    True     True    False\n",
            "4  False   False   False    False    False\n",
            "5  False   False   False    False    False\n",
            "6  False   False   False    False     True\n",
            "7  False    True    True    False     True\n",
            "Missing Data\n",
            "       Id  Gender  Salary  Country  Company\n",
            "0  False   False   False    False    False\n",
            "1  False   False   False    False     True\n",
            "2  False   False   False    False    False\n",
            "3  False    True    True     True    False\n",
            "4  False   False   False    False    False\n",
            "5  False   False   False    False    False\n",
            "6  False   False   False    False     True\n",
            "7  False    True    True    False     True\n"
          ]
        }
      ]
    },
    {
      "cell_type": "markdown",
      "source": [
        "**print only missing data**"
      ],
      "metadata": {
        "id": "uvgJZrdQfFW5"
      }
    },
    {
      "cell_type": "code",
      "source": [
        "print('Filter based on column:\\n',df[df.isnull().any(axis=1)])"
      ],
      "metadata": {
        "colab": {
          "base_uri": "https://localhost:8080/"
        },
        "id": "n9xE_1GsekcA",
        "outputId": "8ec7bed8-7125-4e49-89a8-e313cc668826"
      },
      "execution_count": 58,
      "outputs": [
        {
          "output_type": "stream",
          "name": "stdout",
          "text": [
            "Filter based on column:\n",
            "    Id  Gender   Salary    Country  Company\n",
            "1   2  Female  45000.0      china      NaN\n",
            "3   4     NaN      NaN        NaN  infosys\n",
            "6   7    Male  40000.0  syngapore      NaN\n",
            "7   8     NaN      NaN     Russia      NaN\n"
          ]
        }
      ]
    },
    {
      "cell_type": "markdown",
      "source": [
        "**sumup missing values**"
      ],
      "metadata": {
        "id": "qin-mYFXfcjI"
      }
    },
    {
      "cell_type": "code",
      "source": [
        "print('sum up the missing values:\\n',df.isnull().sum())"
      ],
      "metadata": {
        "colab": {
          "base_uri": "https://localhost:8080/"
        },
        "id": "beNS36N2fbaZ",
        "outputId": "a004077a-4200-4d33-ea71-176ae7ad4964"
      },
      "execution_count": 59,
      "outputs": [
        {
          "output_type": "stream",
          "name": "stdout",
          "text": [
            "sum up the missing values:\n",
            " Id         0\n",
            "Gender     2\n",
            "Salary     2\n",
            "Country    1\n",
            "Company    3\n",
            "dtype: int64\n"
          ]
        }
      ]
    },
    {
      "cell_type": "markdown",
      "source": [
        "**Dropping missing data**"
      ],
      "metadata": {
        "id": "vl7hu1oifz-A"
      }
    },
    {
      "cell_type": "code",
      "source": [
        "df.dropna(inplace=True)\n",
        "print(df)\n"
      ],
      "metadata": {
        "colab": {
          "base_uri": "https://localhost:8080/"
        },
        "id": "IN3iVoy3fzsy",
        "outputId": "883500cb-22d2-4a2a-d23c-0f7b428cc412"
      },
      "execution_count": 60,
      "outputs": [
        {
          "output_type": "stream",
          "name": "stdout",
          "text": [
            "   Id  Gender   Salary Country    Company\n",
            "0   1    Male   1500.0   India     Google\n",
            "2   3  Female  25000.0   India     Google\n",
            "4   5    Male  32000.0   Japan     Google\n",
            "5   6  Female  42000.0  Africa  Microsoft\n"
          ]
        }
      ]
    },
    {
      "cell_type": "markdown",
      "source": [
        "**Replacing missing data**"
      ],
      "metadata": {
        "id": "5i3JZ1U5gOz5"
      }
    },
    {
      "cell_type": "code",
      "source": [
        "df[\"Salary\"].fillna(25000,inplace=True)\n",
        "print(df)"
      ],
      "metadata": {
        "colab": {
          "base_uri": "https://localhost:8080/"
        },
        "id": "cCtOnyM8gUvA",
        "outputId": "15b30f0e-cc07-4711-ce02-f36a3c826954"
      },
      "execution_count": 62,
      "outputs": [
        {
          "output_type": "stream",
          "name": "stdout",
          "text": [
            "   Id  Gender   Salary Country    Company\n",
            "0   1    Male   1500.0   India     Google\n",
            "2   3  Female  25000.0   India     Google\n",
            "4   5    Male  32000.0   Japan     Google\n",
            "5   6  Female  42000.0  Africa  Microsoft\n"
          ]
        }
      ]
    },
    {
      "cell_type": "markdown",
      "source": [
        "**Import functions for handling missing data in pandas**"
      ],
      "metadata": {
        "id": "PEA20EJegxZi"
      }
    },
    {
      "cell_type": "markdown",
      "source": [
        "**import the libraries**"
      ],
      "metadata": {
        "id": "ELoG7T1Vg9x5"
      }
    },
    {
      "cell_type": "code",
      "source": [
        "import numpy as np\n",
        "import pandas as pd\n",
        "data_string='''Id,Gender,Salary,Country,Company\n",
        "1,Male,1500,India,Google\n",
        "2,Female,45000,china,NaN\n",
        "3,Female,25000,India,Google\n",
        "4,NaN,NaN,NaN,infosys\n",
        "5,Male,32000,Japan,Google\n",
        "6,Female,42000,Africa,Microsoft\n",
        "7,Male,40000,syngapore,NaN\n",
        "8,NaN,NaN,Russia,NaN'''\n",
        "with open('salary.csv','w') as out:\n",
        "  out.write(data_string)\n",
        "df=pd.read_csv('/content/salary.csv')\n"
      ],
      "metadata": {
        "id": "DrJ1jgWOg7NR"
      },
      "execution_count": 46,
      "outputs": []
    },
    {
      "cell_type": "code",
      "source": [
        "print('fill missing data\\n',df.fillna(method='pad'))"
      ],
      "metadata": {
        "colab": {
          "base_uri": "https://localhost:8080/"
        },
        "id": "194RtHsEh3Zs",
        "outputId": "5f11ada0-912d-4203-fabf-24388e2eb938"
      },
      "execution_count": 45,
      "outputs": [
        {
          "output_type": "stream",
          "name": "stdout",
          "text": [
            "fill missing data\n",
            "    Id  Gender   Salary    Country    Company\n",
            "0   1    Male   1500.0      India     Google\n",
            "1   2  Female  45000.0      china     Google\n",
            "2   3  Female  25000.0      India     Google\n",
            "3   4  Female  25000.0      India    infosys\n",
            "4   5    Male  32000.0      Japan     Google\n",
            "5   6  Female  42000.0     Africa  Microsoft\n",
            "6   7    Male  40000.0  syngapore  Microsoft\n",
            "7   8    Male  40000.0     Russia  Microsoft\n"
          ]
        }
      ]
    },
    {
      "cell_type": "code",
      "source": [
        "print('Missing data\\n',df.isnull())"
      ],
      "metadata": {
        "colab": {
          "base_uri": "https://localhost:8080/"
        },
        "id": "53jPlxIenvh0",
        "outputId": "41ace623-14e0-4c67-f625-4ccb3dfe427e"
      },
      "execution_count": 47,
      "outputs": [
        {
          "output_type": "stream",
          "name": "stdout",
          "text": [
            "Missing data\n",
            "       Id  Gender  Salary  Country  Company\n",
            "0  False   False   False    False    False\n",
            "1  False   False   False    False     True\n",
            "2  False   False   False    False    False\n",
            "3  False    True    True     True    False\n",
            "4  False   False   False    False    False\n",
            "5  False   False   False    False    False\n",
            "6  False   False   False    False     True\n",
            "7  False    True    True    False     True\n"
          ]
        }
      ]
    },
    {
      "cell_type": "code",
      "source": [
        "print('fill missing data\\n',df.fillna(method='bfill'))"
      ],
      "metadata": {
        "colab": {
          "base_uri": "https://localhost:8080/"
        },
        "id": "_mkXawQliJdK",
        "outputId": "4cf5dd15-1858-4885-c1d3-c38b38c875ea"
      },
      "execution_count": 48,
      "outputs": [
        {
          "output_type": "stream",
          "name": "stdout",
          "text": [
            "fill missing data\n",
            "    Id  Gender   Salary    Country    Company\n",
            "0   1    Male   1500.0      India     Google\n",
            "1   2  Female  45000.0      china     Google\n",
            "2   3  Female  25000.0      India     Google\n",
            "3   4    Male  32000.0      Japan    infosys\n",
            "4   5    Male  32000.0      Japan     Google\n",
            "5   6  Female  42000.0     Africa  Microsoft\n",
            "6   7    Male  40000.0  syngapore        NaN\n",
            "7   8     NaN      NaN     Russia        NaN\n"
          ]
        }
      ]
    },
    {
      "cell_type": "code",
      "source": [
        "print('Fill missing data\\n',df[\"Gender\"].fillna(\"no gender\",inplace=True))\n",
        "print(df)"
      ],
      "metadata": {
        "colab": {
          "base_uri": "https://localhost:8080/"
        },
        "id": "ao2-EfE4iS-y",
        "outputId": "8b707338-44b6-4f85-fe3a-d9006cf222a0"
      },
      "execution_count": 52,
      "outputs": [
        {
          "output_type": "stream",
          "name": "stdout",
          "text": [
            "Fill missing data\n",
            " None\n",
            "   Id     Gender   Salary    Country    Company\n",
            "0   1       Male   1500.0      India     Google\n",
            "1   2     Female  45000.0      china        NaN\n",
            "2   3     Female  25000.0      India     Google\n",
            "3   4  no gender      NaN        NaN    infosys\n",
            "4   5       Male  32000.0      Japan     Google\n",
            "5   6     Female  42000.0     Africa  Microsoft\n",
            "6   7       Male  40000.0  syngapore        NaN\n",
            "7   8  no gender      NaN     Russia        NaN\n"
          ]
        }
      ]
    },
    {
      "cell_type": "code",
      "source": [
        "print(df.replace(to_replace='Google',value='Microsoft'))"
      ],
      "metadata": {
        "colab": {
          "base_uri": "https://localhost:8080/"
        },
        "id": "plIVasivi8Fy",
        "outputId": "ce16ed03-9b0b-401e-9d58-c6759294ee11"
      },
      "execution_count": 53,
      "outputs": [
        {
          "output_type": "stream",
          "name": "stdout",
          "text": [
            "   Id     Gender   Salary    Country    Company\n",
            "0   1       Male   1500.0      India  Microsoft\n",
            "1   2     Female  45000.0      china        NaN\n",
            "2   3     Female  25000.0      India  Microsoft\n",
            "3   4  no gender      NaN        NaN    infosys\n",
            "4   5       Male  32000.0      Japan  Microsoft\n",
            "5   6     Female  42000.0     Africa  Microsoft\n",
            "6   7       Male  40000.0  syngapore        NaN\n",
            "7   8  no gender      NaN     Russia        NaN\n"
          ]
        }
      ]
    },
    {
      "cell_type": "code",
      "source": [
        "print(df.interpolate(method='linear',limit_direction='forward'))"
      ],
      "metadata": {
        "colab": {
          "base_uri": "https://localhost:8080/"
        },
        "id": "kdy21RAojUb7",
        "outputId": "c444d345-caf4-4048-d692-60695858be62"
      },
      "execution_count": 54,
      "outputs": [
        {
          "output_type": "stream",
          "name": "stdout",
          "text": [
            "   Id     Gender   Salary    Country    Company\n",
            "0   1       Male   1500.0      India     Google\n",
            "1   2     Female  45000.0      china        NaN\n",
            "2   3     Female  25000.0      India     Google\n",
            "3   4  no gender  28500.0        NaN    infosys\n",
            "4   5       Male  32000.0      Japan     Google\n",
            "5   6     Female  42000.0     Africa  Microsoft\n",
            "6   7       Male  40000.0  syngapore        NaN\n",
            "7   8  no gender  40000.0     Russia        NaN\n"
          ]
        }
      ]
    },
    {
      "cell_type": "markdown",
      "source": [
        "**Salaryyyyyyyyyyyy***/extraaa"
      ],
      "metadata": {
        "id": "hZJjg4uks-BN"
      }
    },
    {
      "cell_type": "code",
      "source": [
        "import numpy as np\n",
        "import pandas as pd\n",
        "data_string='''Id,Gender,Salary,Country,Company\n",
        "1,Male,1500,India,Google\n",
        "2,Female,45000,china,NaN\n",
        "3,Female,25000,India,Google\n",
        "4,NaN,NaN,NaN,infosys\n",
        "5,Male,32000,Japan,Google\n",
        "6,Female,42000,Africa,Microsoft\n",
        "7,Male,40000,syngapore,NaN\n",
        "8,NaN,NaN,Russia,NaN'''\n",
        "with open('salary1.csv','w')as out:\n",
        "  out.write(data_string)"
      ],
      "metadata": {
        "id": "MCgXD_fPrmZF"
      },
      "execution_count": 64,
      "outputs": []
    },
    {
      "cell_type": "code",
      "source": [
        "df1=pd.read_csv('/content/salary1.csv')\n",
        "print('Salary Dataset:\\n',df1)"
      ],
      "metadata": {
        "colab": {
          "base_uri": "https://localhost:8080/"
        },
        "id": "lL7j4T_GsRc5",
        "outputId": "d35b384f-614d-4164-f4a2-fcfcb4216796"
      },
      "execution_count": 66,
      "outputs": [
        {
          "output_type": "stream",
          "name": "stdout",
          "text": [
            "Salary Dataset:\n",
            "    Id  Gender   Salary    Country    Company\n",
            "0   1    Male   1500.0      India     Google\n",
            "1   2  Female  45000.0      china        NaN\n",
            "2   3  Female  25000.0      India     Google\n",
            "3   4     NaN      NaN        NaN    infosys\n",
            "4   5    Male  32000.0      Japan     Google\n",
            "5   6  Female  42000.0     Africa  Microsoft\n",
            "6   7    Male  40000.0  syngapore        NaN\n",
            "7   8     NaN      NaN     Russia        NaN\n"
          ]
        }
      ]
    },
    {
      "cell_type": "code",
      "source": [
        "df1[\"Salary\"].fillna(25000,inplace=True)\n",
        "print(df1)"
      ],
      "metadata": {
        "colab": {
          "base_uri": "https://localhost:8080/"
        },
        "id": "_A9CYygWsdmv",
        "outputId": "b8639ffc-6ef5-4ddb-8c05-9436bb480b90"
      },
      "execution_count": 67,
      "outputs": [
        {
          "output_type": "stream",
          "name": "stdout",
          "text": [
            "   Id  Gender   Salary    Country    Company\n",
            "0   1    Male   1500.0      India     Google\n",
            "1   2  Female  45000.0      china        NaN\n",
            "2   3  Female  25000.0      India     Google\n",
            "3   4     NaN  25000.0        NaN    infosys\n",
            "4   5    Male  32000.0      Japan     Google\n",
            "5   6  Female  42000.0     Africa  Microsoft\n",
            "6   7    Male  40000.0  syngapore        NaN\n",
            "7   8     NaN  25000.0     Russia        NaN\n"
          ]
        }
      ]
    }
  ]
}