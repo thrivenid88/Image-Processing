{
 "cells": [
  {
   "cell_type": "code",
   "execution_count": 30,
   "id": "da33bd60",
   "metadata": {},
   "outputs": [],
   "source": [
    "#sharpenning\n",
    "import cv2\n",
    "import numpy as np\n",
    "image=cv2.imread(\"boy.jpg\")\n",
    "kernel=np.array([[0,-1,0],[-1,9,-1],[0,-1,0]])\n",
    "sharpend=cv2.filter2D(image,-1,kernel)\n",
    "cv2.imshow(\"image\",sharpend)\n",
    "cv2.imshow(\"original image\",image)\n",
    "cv2.waitKey(0)\n",
    "cv2.destroyAllWindows()"
   ]
  },
  {
   "cell_type": "code",
   "execution_count": 18,
   "id": "6a541563",
   "metadata": {},
   "outputs": [],
   "source": [
    "import cv2\n",
    "import numpy as np\n",
    "image=cv2.imread(\"rose.jfif\")\n",
    "cv2.imshow(\"original image\",image)\n",
    "f=cv2.flip(image,0)\n",
    "cv2.imshow(\"flipped image\",f)\n",
    "cv2.waitKey(0)\n",
    "cv2.destroyAllWindows()"
   ]
  },
  {
   "cell_type": "code",
   "execution_count": 11,
   "id": "4fd4c03c",
   "metadata": {},
   "outputs": [],
   "source": [
    "#horizontal\n",
    "import cv2\n",
    "import numpy as np\n",
    "image=cv2.imread(\"rose.jfif\")\n",
    "cv2.imshow(\"original image\",image)\n",
    "f_h=cv2.flip(image,1)\n",
    "cv2.imshow(\"flipped image\",f_h)\n",
    "cv2.waitKey(0)\n",
    "cv2.destroyAllWindows()"
   ]
  },
  {
   "cell_type": "code",
   "execution_count": 10,
   "id": "d1a7a676",
   "metadata": {},
   "outputs": [],
   "source": [
    "import cv2\n",
    "import numpy as np\n",
    "image=cv2.imread(\"rose.jfif\")\n",
    "cv2.imshow(\"original image\",image)\n",
    "f_h=cv2.flip(image,-1)\n",
    "cv2.imshow(\"flipped image\",f_h)\n",
    "cv2.waitKey(0)\n",
    "cv2.destroyAllWindows()"
   ]
  },
  {
   "cell_type": "code",
   "execution_count": 28,
   "id": "df6cfde2",
   "metadata": {},
   "outputs": [],
   "source": [
    "import cv2\n",
    "import numpy as np\n",
    "image=cv2.imread(\"boy.jpg\")\n",
    "cv2.imshow(\"original image\",image)\n",
    "f_d=cv2.flip(image,-1)\n",
    "f_v=cv2.flip(image,0)\n",
    "f_h=cv2.flip(image,1)\n",
    "cv2.imshow(\"flipped image\",f_d)\n",
    "cv2.imshow(\" horizontally\",f_h)\n",
    "cv2.imshow(\" verticlly\",f_v)\n",
    "cv2.waitKey(0)\n",
    "cv2.destroyAllWindows()"
   ]
  },
  {
   "cell_type": "code",
   "execution_count": 31,
   "id": "00118dfb",
   "metadata": {},
   "outputs": [],
   "source": [
    "#sharpenning\n",
    "import cv2\n",
    "import numpy as np\n",
    "image=cv2.imread(\"boy.jpg\")\n",
    "kernel=np.array([[0,-1,0],[-1,5,-1],[0,-1,0]])\n",
    "sharpend=cv2.filter2D(image,-1,kernel)\n",
    "cv2.imshow(\"image\",sharpend)\n",
    "cv2.imshow(\"original image\",image)\n",
    "cv2.waitKey(0)\n",
    "cv2.destroyAllWindows()"
   ]
  },
  {
   "cell_type": "code",
   "execution_count": null,
   "id": "e86dea90",
   "metadata": {},
   "outputs": [],
   "source": []
  }
 ],
 "metadata": {
  "kernelspec": {
   "display_name": "Python 3 (ipykernel)",
   "language": "python",
   "name": "python3"
  },
  "language_info": {
   "codemirror_mode": {
    "name": "ipython",
    "version": 3
   },
   "file_extension": ".py",
   "mimetype": "text/x-python",
   "name": "python",
   "nbconvert_exporter": "python",
   "pygments_lexer": "ipython3",
   "version": "3.9.7"
  }
 },
 "nbformat": 4,
 "nbformat_minor": 5
}
